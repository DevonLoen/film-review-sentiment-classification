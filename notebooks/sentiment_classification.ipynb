{
 "cells": [
  {
   "cell_type": "code",
   "execution_count": 1,
   "id": "eb543398",
   "metadata": {},
   "outputs": [
    {
     "name": "stderr",
     "output_type": "stream",
     "text": [
      "[nltk_data] Downloading package stopwords to\n",
      "[nltk_data]     C:\\Users\\DevonLoen\\AppData\\Roaming\\nltk_data...\n",
      "[nltk_data]   Package stopwords is already up-to-date!\n"
     ]
    },
    {
     "name": "stdout",
     "output_type": "stream",
     "text": [
      "Initial Data:\n",
      "                                              review sentiment\n",
      "0  One of the other reviewers has mentioned that ...  positive\n",
      "1  A wonderful little production. <br /><br />The...  positive\n",
      "2  I thought this was a wonderful way to spend ti...  positive\n",
      "3  Basically there's a family where a little boy ...  negative\n",
      "4  Petter Mattei's \"Love in the Time of Money\" is...  positive\n",
      "\n",
      "Dataset Info:\n",
      "<class 'pandas.core.frame.DataFrame'>\n",
      "RangeIndex: 50000 entries, 0 to 49999\n",
      "Data columns (total 2 columns):\n",
      " #   Column     Non-Null Count  Dtype \n",
      "---  ------     --------------  ----- \n",
      " 0   review     50000 non-null  object\n",
      " 1   sentiment  50000 non-null  object\n",
      "dtypes: object(2)\n",
      "memory usage: 781.4+ KB\n"
     ]
    }
   ],
   "source": [
    "# --- 1. SETUP AND LOADING DATA ---\n",
    "\n",
    "# Import basic libraries\n",
    "import pandas as pd\n",
    "import numpy as np\n",
    "import matplotlib.pyplot as plt\n",
    "import seaborn as sns\n",
    "\n",
    "# Import libraries for text processing and machine learning\n",
    "import re\n",
    "import nltk\n",
    "from nltk.corpus import stopwords\n",
    "from sklearn.model_selection import train_test_split\n",
    "from sklearn.feature_extraction.text import TfidfVectorizer\n",
    "from sklearn.naive_bayes import MultinomialNB  # Replacing Logistic Regression with Naive Bayes\n",
    "from sklearn.metrics import accuracy_score, classification_report, confusion_matrix\n",
    "\n",
    "# Sets the plot display\n",
    "sns.set(style='whitegrid')\n",
    "\n",
    "# Download stopwords from NLTK (only need to run once)\n",
    "nltk.download('stopwords')\n",
    "\n",
    "# --- Loading Data ---\n",
    "# Replace with your correct CSV file path.\n",
    "# Example if the files are in the same folder: url = 'reviews.csv'\n",
    "url = '../data/reviews.csv'\n",
    "\n",
    "# Reading the data into a pandas DataFrame\n",
    "# Ensure the column names are 'review' and 'sentiment'\n",
    "try:\n",
    "    df = pd.read_csv(url)\n",
    "except FileNotFoundError:\n",
    "    print(f\"Error: File not found at '{url}'. Please make sure the file path is correct.\")\n",
    "    # Creating a sample DataFrame if the file is not found, so the rest of the code can run\n",
    "    print(\"Creating a sample DataFrame...\")\n",
    "    data = {'review': ['this movie was amazing and wonderful', 'this was a terrible and boring movie',\n",
    "                       'i absolutely loved it', 'i hated every minute of it'],\n",
    "            'sentiment': ['positive', 'negative', 'positive', 'negative']}\n",
    "    df = pd.DataFrame(data)\n",
    "\n",
    "\n",
    "# Displaying the first 5 rows of the data\n",
    "print(\"Initial Data:\")\n",
    "print(df.head())\n",
    "\n",
    "# Displaying basic information about the dataset\n",
    "print(\"\\nDataset Info:\")\n",
    "df.info()"
   ]
  },
  {
   "cell_type": "code",
   "execution_count": 2,
   "id": "82d624ec",
   "metadata": {},
   "outputs": [
    {
     "name": "stdout",
     "output_type": "stream",
     "text": [
      "\n",
      "Sentiment Distribution:\n",
      "sentiment\n",
      "positive    25000\n",
      "negative    25000\n",
      "Name: count, dtype: int64\n"
     ]
    },
    {
     "data": {
      "image/png": "[encoded data removed]",
      "text/plain": [
       "<Figure size 640x480 with 1 Axes>"
      ]
     },
     "metadata": {},
     "output_type": "display_data"
    },
    {
     "name": "stdout",
     "output_type": "stream",
     "text": [
      "\n",
      "Data After Preprocessing:\n",
      "                                              review  \\\n",
      "0  One of the other reviewers has mentioned that ...   \n",
      "1  A wonderful little production. <br /><br />The...   \n",
      "2  I thought this was a wonderful way to spend ti...   \n",
      "3  Basically there's a family where a little boy ...   \n",
      "4  Petter Mattei's \"Love in the Time of Money\" is...   \n",
      "\n",
      "                                      cleaned_review  \n",
      "0  one reviewers mentioned watching oz episode yo...  \n",
      "1  wonderful little production br br filming tech...  \n",
      "2  thought wonderful way spend time hot summer we...  \n",
      "3  basically theres family little boy jake thinks...  \n",
      "4  petter matteis love time money visually stunni...  \n"
     ]
    }
   ],
   "source": [
    "# --- 2. EDA AND TEXT PREPROCESSING ---\n",
    "\n",
    "# Check sentiment distribution\n",
    "print(\"\\nSentiment Distribution:\")\n",
    "print(df['sentiment'].value_counts())\n",
    "\n",
    "# Plot sentiment distribution\n",
    "sns.countplot(x='sentiment', data=df)\n",
    "plt.title('Review Sentiment Distribution')\n",
    "plt.show()\n",
    "\n",
    "# Function to clean text\n",
    "def preprocess_text(text):\n",
    "    # Convert to lowercase\n",
    "    text = text.lower()\n",
    "    # Remove characters other than letters\n",
    "    text = re.sub(r'[^a-zA-Z\\s]', '', text)\n",
    "    # Remove stopwords\n",
    "    stop_words = set(stopwords.words('english')) # Change to 'indonesian' if necessary\n",
    "    words = text.split()\n",
    "    words = [word for word in words if word not in stop_words]\n",
    "    return ' '.join(words)\n",
    "\n",
    "# Applying the preprocessing function to the 'review' column\n",
    "df['cleaned_review'] = df['review'].apply(preprocess_text)\n",
    "\n",
    "print(\"\\nData After Preprocessing:\")\n",
    "print(df[['review', 'cleaned_review']].head())"
   ]
  },
  {
   "cell_type": "code",
   "execution_count": 3,
   "id": "c9edb8c1",
   "metadata": {},
   "outputs": [
    {
     "name": "stdout",
     "output_type": "stream",
     "text": [
      "\n",
      "Shape of the TF-IDF Matrix:\n",
      "(50000, 5000)\n"
     ]
    }
   ],
   "source": [
    "# --- 3. FEATURE ENGINEERING (TF-IDF) ---\n",
    "\n",
    "# Initialize the TF-IDF Vectorizer\n",
    "tfidf = TfidfVectorizer(max_features=5000)\n",
    "\n",
    "# Separating features (X) and target (y)\n",
    "X = df['cleaned_review']\n",
    "y = df['sentiment']\n",
    "\n",
    "# Transforming text into TF-IDF vectors\n",
    "X_tfidf = tfidf.fit_transform(X)\n",
    "\n",
    "print(\"\\nShape of the TF-IDF Matrix:\")\n",
    "print(X_tfidf.shape)"
   ]
  },
  {
   "cell_type": "code",
   "execution_count": 4,
   "id": "cbbaeba2",
   "metadata": {},
   "outputs": [
    {
     "name": "stdout",
     "output_type": "stream",
     "text": [
      "\n",
      "Naive Bayes model trained successfully!\n"
     ]
    }
   ],
   "source": [
    "# --- 4. MODEL TRAINING ---\n",
    "\n",
    "# Splitting the data into training data (80%) and testing data (20%)\n",
    "X_train, X_test, y_train, y_test = train_test_split(X_tfidf, y, test_size=0.2, random_state=42, stratify=y)\n",
    "\n",
    "# Initialize the Naive Bayes model\n",
    "model = MultinomialNB()\n",
    "\n",
    "# Training the model with the training data\n",
    "model.fit(X_train, y_train)\n",
    "\n",
    "print(\"\\nNaive Bayes model trained successfully!\")"
   ]
  },
  {
   "cell_type": "code",
   "execution_count": 5,
   "id": "ef4228fe",
   "metadata": {},
   "outputs": [
    {
     "name": "stdout",
     "output_type": "stream",
     "text": [
      "\n",
      "Model Accuracy: 0.8542\n",
      "\n",
      "Classification Report:\n",
      "              precision    recall  f1-score   support\n",
      "\n",
      "    negative       0.86      0.85      0.85      5000\n",
      "    positive       0.85      0.86      0.86      5000\n",
      "\n",
      "    accuracy                           0.85     10000\n",
      "   macro avg       0.85      0.85      0.85     10000\n",
      "weighted avg       0.85      0.85      0.85     10000\n",
      "\n",
      "\n",
      "Confusion Matrix:\n"
     ]
    },
    {
     "data": {
      "image/png": "[encoded data removed]",
      "text/plain": [
       "<Figure size 640x480 with 2 Axes>"
      ]
     },
     "metadata": {},
     "output_type": "display_data"
    }
   ],
   "source": [
    "# --- 5. MODEL EVALUATION ---\n",
    "\n",
    "# Making predictions on the test data\n",
    "y_pred = model.predict(X_test)\n",
    "\n",
    "# Calculating the accuracy\n",
    "accuracy = accuracy_score(y_test, y_pred)\n",
    "print(f\"\\nModel Accuracy: {accuracy:.4f}\")\n",
    "\n",
    "# Displaying the classification report\n",
    "print(\"\\nClassification Report:\")\n",
    "print(classification_report(y_test, y_pred))\n",
    "\n",
    "# Displaying the confusion matrix\n",
    "print(\"\\nConfusion Matrix:\")\n",
    "cm = confusion_matrix(y_test, y_pred)\n",
    "sns.heatmap(cm, annot=True, fmt='d', cmap='Blues', xticklabels=model.classes_, yticklabels=model.classes_)\n",
    "plt.xlabel('Predicted')\n",
    "plt.ylabel('Actual')\n",
    "plt.show()"
   ]
  },
  {
   "cell_type": "code",
   "execution_count": 6,
   "id": "a11858cf",
   "metadata": {},
   "outputs": [
    {
     "name": "stdout",
     "output_type": "stream",
     "text": [
      "Model successfully saved at: ../models\\sentiment_model.joblib\n",
      "Vectorizer successfully saved at: ../models\\tfidf_vectorizer.joblib\n"
     ]
    }
   ],
   "source": [
    "import joblib\n",
    "import os\n",
    "\n",
    "# Define the destination directory\n",
    "output_dir = '../models'\n",
    "\n",
    "# Create the directory if it does not exist\n",
    "# exist_ok=True means no error will be raised if the folder already exists\n",
    "os.makedirs(output_dir, exist_ok=True)\n",
    "\n",
    "# Define the full paths for the model and the vectorizer\n",
    "model_path = os.path.join(output_dir, 'sentiment_model.joblib')\n",
    "vectorizer_path = os.path.join(output_dir, 'tfidf_vectorizer.joblib')\n",
    "\n",
    "# --- SAVING ---\n",
    "# Save the model\n",
    "joblib.dump(model, model_path)\n",
    "\n",
    "# Save the vectorizer (don't forget!)\n",
    "joblib.dump(tfidf, vectorizer_path)\n",
    "\n",
    "print(f\"Model successfully saved at: {model_path}\")\n",
    "print(f\"Vectorizer successfully saved at: {vectorizer_path}\")"
   ]
  }
 ],
 "metadata": {
  "kernelspec": {
   "display_name": ".venv",
   "language": "python",
   "name": "python3"
  },
  "language_info": {
   "codemirror_mode": {
    "name": "ipython",
    "version": 3
   },
   "file_extension": ".py",
   "mimetype": "text/x-python",
   "name": "python",
   "nbconvert_exporter": "python",
   "pygments_lexer": "ipython3",
   "version": "3.10.7"
  }
 },
 "nbformat": 4,
 "nbformat_minor": 5
}
