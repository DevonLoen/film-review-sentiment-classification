{
 "cells": [
  {
   "cell_type": "code",
   "execution_count": 5,
   "id": "eb543398",
   "metadata": {},
   "outputs": [
    {
     "name": "stderr",
     "output_type": "stream",
     "text": [
      "[nltk_data] Downloading package stopwords to\n",
      "[nltk_data]     C:\\Users\\DevonLoen\\AppData\\Roaming\\nltk_data...\n",
      "[nltk_data]   Package stopwords is already up-to-date!\n"
     ]
    },
    {
     "name": "stdout",
     "output_type": "stream",
     "text": [
      "Data Awal:\n",
      "                                              review sentiment\n",
      "0  One of the other reviewers has mentioned that ...  positive\n",
      "1  A wonderful little production. <br /><br />The...  positive\n",
      "2  I thought this was a wonderful way to spend ti...  positive\n",
      "3  Basically there's a family where a little boy ...  negative\n",
      "4  Petter Mattei's \"Love in the Time of Money\" is...  positive\n",
      "\n",
      "Info Dataset:\n",
      "<class 'pandas.core.frame.DataFrame'>\n",
      "RangeIndex: 50000 entries, 0 to 49999\n",
      "Data columns (total 2 columns):\n",
      " #   Column     Non-Null Count  Dtype \n",
      "---  ------     --------------  ----- \n",
      " 0   review     50000 non-null  object\n",
      " 1   sentiment  50000 non-null  object\n",
      "dtypes: object(2)\n",
      "memory usage: 781.4+ KB\n"
     ]
    }
   ],
   "source": [
    "# --- 1. SETUP DAN MEMUAT DATA ---\n",
    "\n",
    "# Import library dasar\n",
    "import pandas as pd\n",
    "import numpy as np\n",
    "import matplotlib.pyplot as plt\n",
    "import seaborn as sns\n",
    "\n",
    "# Import library untuk text processing dan machine learning\n",
    "import re\n",
    "import nltk\n",
    "from nltk.corpus import stopwords\n",
    "from sklearn.model_selection import train_test_split\n",
    "from sklearn.feature_extraction.text import TfidfVectorizer\n",
    "from sklearn.naive_bayes import MultinomialNB  # Mengganti LogisticRegression dengan Naive Bayes\n",
    "from sklearn.metrics import accuracy_score, classification_report, confusion_matrix\n",
    "\n",
    "# Mengatur tampilan plot\n",
    "sns.set(style='whitegrid')\n",
    "\n",
    "# Download stopwords dari NLTK (hanya perlu dijalankan sekali)\n",
    "nltk.download('stopwords')\n",
    "\n",
    "# --- Memuat Data ---\n",
    "# Ganti dengan path file CSV Anda yang benar\n",
    "# Contoh jika file ada di folder yang sama: url = 'reviews.csv'\n",
    "url = '../data/reviews.csv' \n",
    "\n",
    "# Membaca data ke dalam DataFrame pandas\n",
    "# Pastikan nama kolom adalah 'review' dan 'sentiment'\n",
    "try:\n",
    "    df = pd.read_csv(url)\n",
    "except FileNotFoundError:\n",
    "    print(f\"Error: File tidak ditemukan di '{url}'. Pastikan path file sudah benar.\")\n",
    "    # Membuat DataFrame contoh jika file tidak ditemukan, agar sisa kode bisa jalan\n",
    "    print(\"Membuat DataFrame contoh...\")\n",
    "    data = {'review': ['this movie was amazing and wonderful', 'this was a terrible and boring movie', \n",
    "                       'i absolutely loved it', 'i hated every minute of it'],\n",
    "            'sentiment': ['positive', 'negative', 'positive', 'negative']}\n",
    "    df = pd.DataFrame(data)\n",
    "\n",
    "\n",
    "# Menampilkan 5 baris pertama data\n",
    "print(\"Data Awal:\")\n",
    "print(df.head())\n",
    "\n",
    "# Menampilkan informasi dasar tentang dataset\n",
    "print(\"\\nInfo Dataset:\")\n",
    "df.info()"
   ]
  },
  {
   "cell_type": "code",
   "execution_count": 6,
   "id": "82d624ec",
   "metadata": {},
   "outputs": [
    {
     "name": "stdout",
     "output_type": "stream",
     "text": [
      "\n",
      "Distribusi Sentimen:\n",
      "sentiment\n",
      "positive    25000\n",
      "negative    25000\n",
      "Name: count, dtype: int64\n"
     ]
    },
    {
     "data": {
      "image/png": "[encoded data removed]",
      "text/plain": [
       "<Figure size 640x480 with 1 Axes>"
      ]
     },
     "metadata": {},
     "output_type": "display_data"
    },
    {
     "name": "stdout",
     "output_type": "stream",
     "text": [
      "\n",
      "Data Setelah Preprocessing:\n",
      "                                              review  \\\n",
      "0  One of the other reviewers has mentioned that ...   \n",
      "1  A wonderful little production. <br /><br />The...   \n",
      "2  I thought this was a wonderful way to spend ti...   \n",
      "3  Basically there's a family where a little boy ...   \n",
      "4  Petter Mattei's \"Love in the Time of Money\" is...   \n",
      "\n",
      "                                      cleaned_review  \n",
      "0  one reviewers mentioned watching oz episode yo...  \n",
      "1  wonderful little production br br filming tech...  \n",
      "2  thought wonderful way spend time hot summer we...  \n",
      "3  basically theres family little boy jake thinks...  \n",
      "4  petter matteis love time money visually stunni...  \n"
     ]
    }
   ],
   "source": [
    "# --- 2. EDA DAN PREPROCESSING TEKS ---\n",
    "\n",
    "# Cek distribusi sentimen\n",
    "print(\"\\nDistribusi Sentimen:\")\n",
    "print(df['sentiment'].value_counts())\n",
    "\n",
    "# Plot distribusi sentimen\n",
    "sns.countplot(x='sentiment', data=df)\n",
    "plt.title('Distribusi Sentimen Ulasan')\n",
    "plt.show()\n",
    "\n",
    "# Fungsi untuk membersihkan teks\n",
    "def preprocess_text(text):\n",
    "    # Mengubah ke huruf kecil\n",
    "    text = text.lower()\n",
    "    # Menghapus karakter selain huruf\n",
    "    text = re.sub(r'[^a-zA-Z\\s]', '', text)\n",
    "    # Menghapus stopwords\n",
    "    stop_words = set(stopwords.words('english')) # Ganti ke 'indonesian' jika perlu\n",
    "    words = text.split()\n",
    "    words = [word for word in words if word not in stop_words]\n",
    "    return ' '.join(words)\n",
    "\n",
    "# Menerapkan fungsi preprocessing ke kolom 'review'\n",
    "df['cleaned_review'] = df['review'].apply(preprocess_text)\n",
    "\n",
    "print(\"\\nData Setelah Preprocessing:\")\n",
    "print(df[['review', 'cleaned_review']].head())"
   ]
  },
  {
   "cell_type": "code",
   "execution_count": 7,
   "id": "c9edb8c1",
   "metadata": {},
   "outputs": [
    {
     "name": "stdout",
     "output_type": "stream",
     "text": [
      "\n",
      "Bentuk Matriks TF-IDF:\n",
      "(50000, 5000)\n"
     ]
    }
   ],
   "source": [
    "# --- 3. FEATURE ENGINEERING (TF-IDF) ---\n",
    "\n",
    "# Inisialisasi TF-IDF Vectorizer\n",
    "tfidf = TfidfVectorizer(max_features=5000)\n",
    "\n",
    "# Memisahkan fitur (X) dan target (y)\n",
    "X = df['cleaned_review']\n",
    "y = df['sentiment']\n",
    "\n",
    "# Mengubah teks menjadi vektor TF-IDF\n",
    "X_tfidf = tfidf.fit_transform(X)\n",
    "\n",
    "print(\"\\nBentuk Matriks TF-IDF:\")\n",
    "print(X_tfidf.shape)\n"
   ]
  },
  {
   "cell_type": "code",
   "execution_count": 8,
   "id": "cbbaeba2",
   "metadata": {},
   "outputs": [
    {
     "name": "stdout",
     "output_type": "stream",
     "text": [
      "\n",
      "Model Naive Bayes berhasil dilatih!\n"
     ]
    }
   ],
   "source": [
    "# --- 4. PELATIHAN MODEL ---\n",
    "\n",
    "# Membagi data menjadi data latih (80%) dan data uji (20%)\n",
    "X_train, X_test, y_train, y_test = train_test_split(X_tfidf, y, test_size=0.2, random_state=42, stratify=y)\n",
    "\n",
    "# Inisialisasi model Naive Bayes\n",
    "model = MultinomialNB()\n",
    "\n",
    "# Melatih model dengan data latih\n",
    "model.fit(X_train, y_train)\n",
    "\n",
    "print(\"\\nModel Naive Bayes berhasil dilatih!\")\n"
   ]
  },
  {
   "cell_type": "code",
   "execution_count": 9,
   "id": "ef4228fe",
   "metadata": {},
   "outputs": [
    {
     "name": "stdout",
     "output_type": "stream",
     "text": [
      "\n",
      "Akurasi Model: 0.8542\n",
      "\n",
      "Laporan Klasifikasi:\n",
      "              precision    recall  f1-score   support\n",
      "\n",
      "    negative       0.86      0.85      0.85      5000\n",
      "    positive       0.85      0.86      0.86      5000\n",
      "\n",
      "    accuracy                           0.85     10000\n",
      "   macro avg       0.85      0.85      0.85     10000\n",
      "weighted avg       0.85      0.85      0.85     10000\n",
      "\n",
      "\n",
      "Confusion Matrix:\n"
     ]
    },
    {
     "data": {
      "image/png": "[encoded data removed]",
      "text/plain": [
       "<Figure size 640x480 with 2 Axes>"
      ]
     },
     "metadata": {},
     "output_type": "display_data"
    }
   ],
   "source": [
    "# --- 5. EVALUASI MODEL ---\n",
    "\n",
    "# Melakukan prediksi pada data uji\n",
    "y_pred = model.predict(X_test)\n",
    "\n",
    "# Menghitung akurasi\n",
    "accuracy = accuracy_score(y_test, y_pred)\n",
    "print(f\"\\nAkurasi Model: {accuracy:.4f}\")\n",
    "\n",
    "# Menampilkan classification report\n",
    "print(\"\\nLaporan Klasifikasi:\")\n",
    "print(classification_report(y_test, y_pred))\n",
    "\n",
    "# Menampilkan confusion matrix\n",
    "print(\"\\nConfusion Matrix:\")\n",
    "cm = confusion_matrix(y_test, y_pred)\n",
    "sns.heatmap(cm, annot=True, fmt='d', cmap='Blues', xticklabels=model.classes_, yticklabels=model.classes_)\n",
    "plt.xlabel('Predicted')\n",
    "plt.ylabel('Actual')\n",
    "plt.show()"
   ]
  },
  {
   "cell_type": "code",
   "execution_count": 14,
   "id": "a11858cf",
   "metadata": {},
   "outputs": [
    {
     "name": "stdout",
     "output_type": "stream",
     "text": [
      "Model berhasil disimpan di: ../models\\sentiment_model.joblib\n",
      "Vectorizer berhasil disimpan di: ../models\\tfidf_vectorizer.joblib\n"
     ]
    }
   ],
   "source": [
    "import joblib\n",
    "import os\n",
    "\n",
    "# Tentukan direktori tujuan\n",
    "output_dir = '../models'\n",
    "\n",
    "# Buat direktori jika belum ada\n",
    "# exist_ok=True berarti tidak akan ada error jika folder sudah ada\n",
    "os.makedirs(output_dir, exist_ok=True)\n",
    "\n",
    "# Tentukan path lengkap untuk model dan vectorizer\n",
    "model_path = os.path.join(output_dir, 'sentiment_model.joblib')\n",
    "vectorizer_path = os.path.join(output_dir, 'tfidf_vectorizer.joblib')\n",
    "\n",
    "# --- MENYIMPAN ---\n",
    "# Simpan model\n",
    "joblib.dump(model, model_path)\n",
    "\n",
    "# Simpan vectorizer (jangan lupa!)\n",
    "joblib.dump(tfidf, vectorizer_path)\n",
    "\n",
    "print(f\"Model berhasil disimpan di: {model_path}\")\n",
    "print(f\"Vectorizer berhasil disimpan di: {vectorizer_path}\")"
   ]
  }
 ],
 "metadata": {
  "kernelspec": {
   "display_name": ".venv",
   "language": "python",
   "name": "python3"
  },
  "language_info": {
   "codemirror_mode": {
    "name": "ipython",
    "version": 3
   },
   "file_extension": ".py",
   "mimetype": "text/x-python",
   "name": "python",
   "nbconvert_exporter": "python",
   "pygments_lexer": "ipython3",
   "version": "3.10.7"
  }
 },
 "nbformat": 4,
 "nbformat_minor": 5
}
